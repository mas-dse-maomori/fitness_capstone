{
 "cells": [
  {
   "cell_type": "code",
   "execution_count": 1,
   "metadata": {
    "collapsed": true
   },
   "outputs": [],
   "source": [
    "#create pyspark dataframe from csv\n",
    "def df_from_csv(csv_file):\n",
    "    text = sc.textFile(csv_file)\\\n",
    "        .map(lambda line: line.split(\",\"))\n",
    "    #didn't work with take(1). believe returns \n",
    "    #different object then first()\n",
    "    schema = text.first()\n",
    "    data = text.filter(lambda x: x != schema)\n",
    "    df = sqlContext.createDataFrame(data, schema)\n",
    "    return df"
   ]
  },
  {
   "cell_type": "code",
   "execution_count": 8,
   "metadata": {
    "collapsed": false
   },
   "outputs": [],
   "source": [
    "#import. MAKE SURE LOCALHOST IS IN /ETC/HOSTS FILE TO BUILD WITH HIVE\n",
    "from pyspark.sql import SQLContext\n",
    "sqlContext = HiveContext(sc)\n",
    "\n",
    "from pyspark.sql.window import Window\n",
    "from pyspark.sql import DataFrame\n",
    "\n",
    "\n",
    "from fastpip import pip\n",
    "\n",
    "#Ramer-Douglas-Peucker algorithm package\n",
    "#pip install https://pypi.python.org/packages/67/42/80a54cc4387256335c32b48bd42db80967ab5f40d6ffcd8167b3dd988c11/rdp-0.8.tar.gz\n",
    "from rdp import rdp"
   ]
  },
  {
   "cell_type": "code",
   "execution_count": 3,
   "metadata": {
    "collapsed": false
   },
   "outputs": [
    {
     "data": {
      "text/plain": [
       "1000"
      ]
     },
     "execution_count": 3,
     "metadata": {},
     "output_type": "execute_result"
    }
   ],
   "source": [
    "data_run='/Users/momori/dse/maomori/thesis/git/fitness_capstone/data/run_data_with_hr_spd.csv'\n",
    "df_runs = df_from_csv(data_run).limit(1000)\n",
    "df_runs.count()"
   ]
  },
  {
   "cell_type": "code",
   "execution_count": 4,
   "metadata": {
    "collapsed": true
   },
   "outputs": [],
   "source": [
    "class TimeSeriesData():\n",
    "    data_points = ''\n",
    "    \n",
    "    def __init__(self, data_points):\n",
    "        if data_points:\n",
    "            self.data_points = data_points\n",
    "  \n"
   ]
  },
  {
   "cell_type": "code",
   "execution_count": 9,
   "metadata": {
    "collapsed": false
   },
   "outputs": [],
   "source": [
    "#outputs a list of pyspark dataframes, where each dataframe is grouped by partition_name\n",
    "def split_by_partition_name(data_points, partition_name='\"workoutid\"'):\n",
    "    if not isinstance(data_points, DataFrame):\n",
    "            print 'please enter spark dataframe object'\n",
    "            return\n",
    "    distinct_values = data_points.select(partition_name).distinct()\\\n",
    "        .flatMap(lambda x:x).collect()\n",
    "    dfs = [data_points.where(data_points[partition_name] == val)\\\n",
    "                            for val in distinct_values]\n",
    "    return dfs"
   ]
  },
  {
   "cell_type": "code",
   "execution_count": 10,
   "metadata": {
    "collapsed": false
   },
   "outputs": [
    {
     "name": "stdout",
     "output_type": "stream",
     "text": [
      "+--------------------+----------+------------+-------------+-------------+-------------+-----------+--------+\n",
      "|              \"time\"|\"altitude\"|\"heart_rate\"|   \"latitude\"|  \"longitude\"|      \"speed\"|\"workoutid\"|    \"id\"|\n",
      "+--------------------+----------+------------+-------------+-------------+-------------+-----------+--------+\n",
      "|\"2013-02-22 21:38...|          |   147.00000|51.4394768234|-0.8953504544| 6.7140000000|  167479013|13856798|\n",
      "|\"2013-02-22 21:38...|          |   148.00000|51.4392022323|-0.8952703234| 9.3492000000|  167479013|13856799|\n",
      "|\"2013-02-22 21:39...|          |   148.00000|51.4390821196|-0.8953502029|10.6308000000|  167479013|13856800|\n",
      "|\"2013-02-22 21:39...|          |   149.00000|51.4388703089|-0.8954045177|13.3740000000|  167479013|13856801|\n",
      "|\"2013-02-22 21:39...|          |   151.00000|51.4386848174|-0.8952745982|12.6468000000|  167479013|13856802|\n",
      "|\"2013-02-22 21:39...|          |   152.00000|51.4385818038|-0.8951149229|11.6316000000|  167479013|13856803|\n",
      "|\"2013-02-22 21:39...|          |   151.00000|51.4383811411|-0.8946192171|11.0520000000|  167479013|13856804|\n",
      "|\"2013-02-22 21:39...|          |   151.00000|51.4383305982|-0.8943347353|11.2284000000|  167479013|13856805|\n",
      "|\"2013-02-22 21:39...|          |   150.00000|51.4382817317|-0.8940684423|11.5056000000|  167479013|13856806|\n",
      "|\"2013-02-22 21:39...|          |   152.00000|51.4382587653|-0.8938501775|11.3832000000|  167479013|13856807|\n",
      "|\"2013-02-22 21:39...|          |   151.00000|51.4382402413|-0.8936407138|10.8936000000|  167479013|13856808|\n",
      "|\"2013-02-22 21:40...|          |   150.00000|51.4383392315|-0.8935162425| 9.1944000000|  167479013|13856809|\n",
      "|\"2013-02-22 21:40...|          |   150.00000|51.4383939654|-0.8936719783| 9.3996000000|  167479013|13856810|\n",
      "|\"2013-02-22 21:40...|          |   151.00000|51.4383674785|-0.8938780893| 9.9216000000|  167479013|13856811|\n",
      "|\"2013-02-22 21:40...|          |   150.00000|51.4383420814|-0.8940940071|10.0080000000|  167479013|13856812|\n",
      "+--------------------+----------+------------+-------------+-------------+-------------+-----------+--------+\n",
      "\n",
      "None\n",
      "+--------------------+----------+------------+-------------+-------------+--------------+-----------+--------+\n",
      "|              \"time\"|\"altitude\"|\"heart_rate\"|   \"latitude\"|  \"longitude\"|       \"speed\"|\"workoutid\"|    \"id\"|\n",
      "+--------------------+----------+------------+-------------+-------------+--------------+-----------+--------+\n",
      "|\"2013-02-22 20:52...|          |    89.00000|51.4382775407|-0.8940775786|  0.0000000000|  165504204|13856813|\n",
      "|\"2013-02-22 20:52...|          |    89.00000|51.4382775407|-0.8940775786|  0.0000000000|  165504204|13856814|\n",
      "|\"2013-02-22 20:53...|          |   100.00000|51.4382775407|-0.8940775786|  0.0000000000|  165504204|13856815|\n",
      "|\"2013-02-22 20:53...|          |   116.00000|51.4382775407|-0.8940775786|  0.0000000000|  165504204|13856816|\n",
      "|\"2013-02-22 20:53...|          |   121.00000|51.4382775407|-0.8940775786|  0.0000000000|  165504204|13856817|\n",
      "|\"2013-02-22 20:53...|          |   127.00000|51.4382775407|-0.8940775786|  0.0000000000|  165504204|13856818|\n",
      "|\"2013-02-22 20:53...|          |   127.00000|51.4382775407|-0.8940775786|  0.0000000000|  165504204|13856819|\n",
      "|\"2013-02-22 20:53...|          |   131.00000|51.4382775407|-0.8940775786|187.1820000000|  165504204|13856820|\n",
      "|\"2013-02-22 20:53...|          |   131.00000|51.4382775407|-0.8940775786|100.9980000000|  165504204|13856821|\n",
      "|\"2013-02-22 20:53...|          |   130.00000|51.4382775407|-0.8940775786| 49.2804000000|  165504204|13856822|\n",
      "|\"2013-02-22 20:53...|          |   134.00000|51.4382774569|-0.8941158839| 31.0788000000|  165504204|13856823|\n",
      "|\"2013-02-22 20:53...|          |   140.00000|51.4383160975|-0.8943732083| 14.3208000000|  165504204|13856824|\n",
      "|\"2013-02-22 20:53...|          |   146.00000|51.4383254014|-0.8944364917| 14.7240000000|  165504204|13856825|\n",
      "|\"2013-02-22 20:53...|          |   146.00000|51.4383352082|-0.8944837656| 14.8896000000|  165504204|13856826|\n",
      "|\"2013-02-22 20:53...|          |   144.00000|51.4383798838|-0.8947317861| 13.9896000000|  165504204|13856827|\n",
      "|\"2013-02-22 20:53...|          |   149.00000|51.4385087136|-0.8950201236| 11.9268000000|  165504204|13856828|\n",
      "|\"2013-02-22 20:53...|          |   155.00000|51.4385236334|-0.8950405754| 11.6460000000|  165504204|13856829|\n",
      "|\"2013-02-22 20:53...|          |   163.00000|51.4385342784|-0.8950826526| 11.3184000000|  165504204|13856830|\n",
      "|\"2013-02-22 20:53...|          |   163.00000|51.4385528862|-0.8951243106| 11.2140000000|  165504204|13856831|\n",
      "|\"2013-02-22 20:53...|          |   164.00000|51.4386182651|-0.8952336106| 10.7676000000|  165504204|13856832|\n",
      "+--------------------+----------+------------+-------------+-------------+--------------+-----------+--------+\n",
      "only showing top 20 rows\n",
      "\n",
      "None\n"
     ]
    }
   ],
   "source": [
    "ls =split_by_partition_name(df_runs)\n",
    "print ls[0].show()\n",
    "print ls[1].show()\n",
    "\n",
    "##TODO use RDP to create perceptually important \n",
    "#points(do same number of PIPs must be there for each time series?)"
   ]
  },
  {
   "cell_type": "code",
   "execution_count": null,
   "metadata": {
    "collapsed": true
   },
   "outputs": [],
   "source": []
  },
  {
   "cell_type": "code",
   "execution_count": null,
   "metadata": {
    "collapsed": false
   },
   "outputs": [],
   "source": [
    "df_runs.show()"
   ]
  },
  {
   "cell_type": "code",
   "execution_count": null,
   "metadata": {
    "collapsed": true
   },
   "outputs": [],
   "source": []
  },
  {
   "cell_type": "code",
   "execution_count": null,
   "metadata": {
    "collapsed": false
   },
   "outputs": [],
   "source": [
    "rdp([[1, 1,1], [2, 2,2], [3, 3,3], [4, 4,4]], epsilon=0.5)"
   ]
  },
  {
   "cell_type": "code",
   "execution_count": null,
   "metadata": {
    "collapsed": true
   },
   "outputs": [],
   "source": []
  },
  {
   "cell_type": "code",
   "execution_count": null,
   "metadata": {
    "collapsed": true
   },
   "outputs": [],
   "source": []
  },
  {
   "cell_type": "code",
   "execution_count": null,
   "metadata": {
    "collapsed": true
   },
   "outputs": [],
   "source": []
  },
  {
   "cell_type": "code",
   "execution_count": null,
   "metadata": {
    "collapsed": true
   },
   "outputs": [],
   "source": []
  }
 ],
 "metadata": {
  "kernelspec": {
   "display_name": "Python 2",
   "language": "python",
   "name": "python2"
  },
  "language_info": {
   "codemirror_mode": {
    "name": "ipython",
    "version": 2
   },
   "file_extension": ".py",
   "mimetype": "text/x-python",
   "name": "python",
   "nbconvert_exporter": "python",
   "pygments_lexer": "ipython2",
   "version": "2.7.13"
  }
 },
 "nbformat": 4,
 "nbformat_minor": 2
}

{
 "cells": [
  {
   "cell_type": "code",
   "execution_count": 193,
   "metadata": {
    "collapsed": false
   },
   "outputs": [],
   "source": [
    "#traces\n",
    "import pandas as pd\n",
    "import numpy as np\n",
    "import re\n",
    "import sys\n",
    "import nbimporter\n",
    "#for ordered dict for traces implementation\n",
    "from collections import OrderedDict\n",
    "\n",
    "import traces\n",
    "from datetime import datetime\n",
    "from datetime import timedelta\n",
    "#import sources.endomondolib as endo\n",
    "#import sources.pysparkconvenience as ps\n",
    "from numpy import array\n",
    "from math import sqrt\n",
    "\n",
    "#for timedelta manipulation\n",
    "from math import fabs\n",
    "\n",
    "from pyspark.sql.functions import *\n",
    "from pyspark.mllib.clustering import KMeans, KMeansModel\n",
    "from pyspark.sql import DataFrameReader\n",
    "from pyspark.sql import SQLContext\n",
    "from IPython.display import display, HTML\n",
    "from pyspark.sql.functions import col\n",
    "from pyspark.mllib.linalg import Vectors\n",
    "\n",
    "from pyspark.ml.feature import VectorAssembler\n",
    "\n",
    "# Disable warnings, set Matplotlib inline plotting and load Pandas package\n",
    "import warnings\n",
    "warnings.filterwarnings('ignore')\n",
    "\n",
    "%matplotlib inline\n",
    "pd.options.display.mpl_style = 'default'\n",
    "\n",
    "#%load_ext autotime\n",
    "from pyspark.sql import SQLContext\n",
    "sqlContext = SQLContext(sc)\n",
    "\n",
    "del min\n",
    "del max\n",
    "\n",
    "data_run='/Users/momori/dse/maomori/thesis/git/fitness_capstone/data/run_data_with_hr_spd.csv'\n",
    "data_users='/Users/momori/dse/maomori/thesis/git/fitness_capstone/data/run_with_hr_users.csv'"
   ]
  },
  {
   "cell_type": "code",
   "execution_count": 185,
   "metadata": {
    "collapsed": true
   },
   "outputs": [],
   "source": [
    "#create pyspark dataframe from csv\n",
    "def df_from_csv(csv_file):\n",
    "    text = sc.textFile(csv_file)\\\n",
    "        .map(lambda line: line.split(\",\"))\n",
    "    #didn't work with take(1). believe returns \n",
    "    #different object then first()\n",
    "    schema = text.first()\n",
    "    data = text.filter(lambda x: x != schema)\n",
    "    df = sqlContext.createDataFrame(data, schema)\n",
    "    return df\n",
    "\n",
    "def change_column_names(df, old_names, new_names):\n",
    "    pass\n",
    "    return df;\n",
    "\n",
    "##input\n",
    "##   string: 2013-02-22 21:38:45\n",
    "##output: \n",
    "##   list: [u'2013', u'02', u'22', u'21', u'38', u'45']\n",
    "def datetime_to_trace_time(timestamp):\n",
    "    #strip double quotes\n",
    "    timestamp = timestamp.replace('\"', '')\n",
    "    r_list = re.split('[- :]', timestamp)\n",
    "    return [int(x) for x in r_list]"
   ]
  },
  {
   "cell_type": "code",
   "execution_count": 10,
   "metadata": {
    "collapsed": false
   },
   "outputs": [
    {
     "name": "stdout",
     "output_type": "stream",
     "text": [
      "+--------------------+----------+------------+-------------+-------------+------------+-----------+--------+\n",
      "|              \"time\"|\"altitude\"|\"heart_rate\"|   \"latitude\"|  \"longitude\"|     \"speed\"|\"workoutid\"|    \"id\"|\n",
      "+--------------------+----------+------------+-------------+-------------+------------+-----------+--------+\n",
      "|\"2013-02-22 21:38...|          |   147.00000|51.4394768234|-0.8953504544|6.7140000000|  167479013|13856798|\n",
      "|\"2013-02-22 21:38...|          |   148.00000|51.4392022323|-0.8952703234|9.3492000000|  167479013|13856799|\n",
      "+--------------------+----------+------------+-------------+-------------+------------+-----------+--------+\n",
      "only showing top 2 rows\n",
      "\n"
     ]
    }
   ],
   "source": [
    "\n",
    "df_runs = df_from_csv(data_run)\n",
    "df_runs.show(2)\n"
   ]
  },
  {
   "cell_type": "code",
   "execution_count": 261,
   "metadata": {
    "collapsed": false
   },
   "outputs": [],
   "source": [
    "#class for creating timeseries objects. \n",
    "#Allows for computation of unknown data points based on the data around the time asked.\n",
    "#Allows for recreation of datapoints based on the interval \n",
    "\n",
    "class TimeSeriesObject():\n",
    "    data_points = []\n",
    "    interpolation_type = ''\n",
    "    time_format = ''\n",
    "    \n",
    "    #init:\n",
    "    #   data_points: list of tuples (\"time string\", \"value\") ex: [('\"2013-02-22 21:38:45\"', 5), ('\"2013-02-22 21:38:50\"', 10), ('\"2013-02-22 21:38:40\"', 0)]\n",
    "    #   i_type: interpolation type (only linear required?)\n",
    "    #   time_fomat: format of time in input data. default is '\"%Y-%m-%d %H:%M:%S\"' (t1 = '\"2013-02-22 21:38:45\"')\n",
    "    #   is_sorted: is data sorted by time (key)? if not, will sort when object is created\n",
    "    def __init__(self, d_points = [], i_type='', \n",
    "                 time_format='', is_sorted = False):\n",
    "        if  i_type:\n",
    "            self.interpolation_type = i_type\n",
    "        else:\n",
    "            self.interpolation_type = 'linear'\n",
    "            \n",
    "        if  time_format:\n",
    "            self.time_format = time_format\n",
    "        else:\n",
    "            self.time_format = '\"%Y-%m-%d %H:%M:%S\"'\n",
    "            \n",
    "        if not is_sorted:\n",
    "            d_points = sorted(d_points, key=lambda x: x[0])\n",
    "\n",
    "        #change first element into datetime objects using time_format\n",
    "        self.data_points = [(datetime.strptime(x[0], self.time_format), x[1]) for x in d_points]\n",
    "\n",
    "    \n",
    "    def describe(self):\n",
    "        print 'interpolation type: ' + self.interpolation_type\n",
    "        print 'data points: ' , self.data_points\n",
    "        print 'time fomrat: ' + self.time_format\n",
    "        \n",
    "    #get value at specific time, using interpolation_type\n",
    "    #time must be in same format of object's time_format\n",
    "    def value_at(self, time):\n",
    "        #values at both sides of the datapoint. mintime[0] = time, mintime[1] = value   \n",
    "        mintime = min(self.data_points, key=lambda x:fabs((x[0] - time).total_seconds())\\\n",
    "                      if time >= x[0] else float('inf'))\n",
    "        maxtime = min(self.data_points, key=lambda x:fabs((x[0] - time).total_seconds())\\\n",
    "                      if time <= x[0] else float('inf'))\n",
    "\n",
    "        #check if mintime/maxtime == time. If so, return value\n",
    "        if (mintime[0]-time).total_seconds()==0:\n",
    "            return mintime[1]\n",
    "        if (maxtime[0]-time).total_seconds()==0:\n",
    "            return maxtime[1]\n",
    "        \n",
    "        #value to return\n",
    "        rval = ''\n",
    "        \n",
    "        if self.interpolation_type == 'linear':\n",
    "            #get time difference and value difference\n",
    "            total_time_diff = fabs((maxtime[0] - mintime[0]).total_seconds())\n",
    "            if total_time_diff == 0:\n",
    "                return 'time_diff is 0'\n",
    "            val_diff = maxtime[1] - mintime[1]\n",
    "            sample_time_diff = fabs((time - mintime[0]).total_seconds())\n",
    "            \n",
    "            #calculate new value\n",
    "            rval = mintime[1] + val_diff * sample_time_diff/(total_time_diff)\n",
    "        if not rval and rval != 0:\n",
    "            return 'bad interpolation type'\n",
    "        \n",
    "        return rval\n",
    "    \n",
    "    #returns new datapoints based on the slicing interval based on original data\n",
    "    #arguments:\n",
    "    #   intervals: integer value (seconds)\n",
    "    #   replace: if True, replace current datapoints used for self.\n",
    "    #what to do if the data cannot be evenly split into intervals?\n",
    "    def slice(self, intervals, replace = True):\n",
    "        r_list = []\n",
    "        \n",
    "        stepTime = timedelta(0, intervals)\n",
    "        \n",
    "        #get min/max times from original data\n",
    "        mintime = self.data_points[0][0]\n",
    "        maxtime = self.data_points[-1][0]\n",
    "        \n",
    "        #setup time counter\n",
    "        curTime = mintime\n",
    "        \n",
    "        #create slices of data\n",
    "        while curTime <= maxtime:\n",
    "            r_list.append((curTime, self.value_at(curTime)))\n",
    "            curTime += stepTime\n",
    "\n",
    "        #if replace, change internal data for this object\n",
    "        self.data_points = r_list\n",
    "        return r_list\n",
    "\n",
    "    #TBD:\n",
    "    #https://pypi.python.org/pypi/python-fastpip/1.1\n",
    "    #\n",
    "    def smooth(self):\n",
    "        pass"
   ]
  },
  {
   "cell_type": "code",
   "execution_count": 262,
   "metadata": {
    "collapsed": false
   },
   "outputs": [
    {
     "name": "stdout",
     "output_type": "stream",
     "text": [
      "[('\"2013-02-22 21:38:45\"', 5), ('\"2013-02-22 21:38:50\"', 50), ('\"2013-02-22 21:38:40\"', 0)]\n",
      "interpolation type: linear\n",
      "data points:  [(datetime.datetime(2013, 2, 22, 21, 38, 40), 0), (datetime.datetime(2013, 2, 22, 21, 38, 45), 5), (datetime.datetime(2013, 2, 22, 21, 38, 50), 50)]\n",
      "time fomrat: \"%Y-%m-%d %H:%M:%S\"\n",
      "\n",
      "\n"
     ]
    },
    {
     "data": {
      "text/plain": [
       "[(datetime.datetime(2013, 2, 22, 21, 38, 40), 0),\n",
       " (datetime.datetime(2013, 2, 22, 21, 38, 42), 2.0),\n",
       " (datetime.datetime(2013, 2, 22, 21, 38, 44), 4.0),\n",
       " (datetime.datetime(2013, 2, 22, 21, 38, 46), 14.0),\n",
       " (datetime.datetime(2013, 2, 22, 21, 38, 48), 32.0),\n",
       " (datetime.datetime(2013, 2, 22, 21, 38, 50), 50)]"
      ]
     },
     "execution_count": 262,
     "metadata": {},
     "output_type": "execute_result"
    }
   ],
   "source": [
    "in_pattern = '\"%Y-%m-%d %H:%M:%S\"'\n",
    "new_time = datetime.strptime('\"2013-02-22 21:38:42\"', in_pattern)\n",
    "new_interval = 2\n",
    "t1 = '\"2013-02-22 21:38:45\"'\n",
    "t2 = 5\n",
    "t3 = '\"2013-02-22 21:38:50\"'\n",
    "t4 = 50\n",
    "t5 = '\"2013-02-22 21:38:40\"'\n",
    "t6 = 0\n",
    "tup1 = (t1,t2)\n",
    "tup2 = (t3,t4)\n",
    "tup3 = (t5, t6)\n",
    "ll = [tup1, tup2, tup3]\n",
    "print ll\n",
    "obj = TimeSeriesObject(d_points=ll, is_sorted=False)\n",
    "obj.describe()\n",
    "print '\\n'\n",
    "#obj.value_at(new_time)\n",
    "obj.slice(new_interval, replace = False)"
   ]
  },
  {
   "cell_type": "code",
   "execution_count": 160,
   "metadata": {
    "collapsed": false
   },
   "outputs": [
    {
     "name": "stdout",
     "output_type": "stream",
     "text": [
      "3.0 2.0\n",
      "5\n",
      "8.0\n"
     ]
    }
   ],
   "source": [
    "in_pattern = '%Y-%m-%d %H:%M:%S'\n",
    "\n",
    "\n",
    "t1 = datetime.strptime('2013-02-22 21:38:45', in_pattern)\n",
    "t2 = 5\n",
    "t3 = datetime.strptime('2013-02-22 21:38:50', in_pattern)\n",
    "t4 = 10\n",
    "t5 = datetime.strptime('2013-02-22 21:38:40', in_pattern)\n",
    "t6 = 4\n",
    "\n",
    "# d1 = datetime.strptime(t1, in_pattern)\n",
    "# print d1\n",
    "# d2 = datetime.strptime(t3, in_pattern)\n",
    "# print d2 - d1\n",
    "\n",
    "\n",
    "tup1 = (t1,t2)\n",
    "tup2 = (t3,t4)\n",
    "tup3 = (t5, t6)\n",
    "ll = [tup1, tup2, tup3]\n",
    "#print ll\n",
    "#print sorted(ll, key=lambda el: el[0])\n",
    "new_time = '2013-02-22 21:38:48'\n",
    "new_time = datetime.strptime('2013-02-22 21:38:48', in_pattern)\n",
    "\n",
    "#min(ll, key=lambda x:abs(x[0] - new_time))\n",
    "mintime = min(ll, key=lambda x:fabs((x[0] - new_time).total_seconds()) if new_time > x[0] else float('inf'))\n",
    "maxtime = min(ll, key=lambda x:fabs((x[0] - new_time).total_seconds()) if new_time < x[0] else float('inf'))\n",
    "\n",
    "#td1 = fabs((mintime[0] - new_time).total_seconds)\n",
    "\n",
    "td1 = fabs((mintime[0] - new_time).total_seconds())\n",
    "td2 = fabs((maxtime[0] - new_time).total_seconds())\n",
    "print td1, td2\n",
    "#rise\n",
    "rise = maxtime[1] - mintime[1]\n",
    "print rise\n",
    "print mintime[1] + rise * td1/(td1+td2)"
   ]
  },
  {
   "cell_type": "code",
   "execution_count": 8,
   "metadata": {
    "collapsed": false
   },
   "outputs": [
    {
     "name": "stdout",
     "output_type": "stream",
     "text": [
      "linear\n"
     ]
    }
   ],
   "source": [
    "tso = TimeSeriesObject()\n",
    "tso.describe()"
   ]
  },
  {
   "cell_type": "code",
   "execution_count": 4,
   "metadata": {
    "collapsed": false
   },
   "outputs": [
    {
     "name": "stdout",
     "output_type": "stream",
     "text": [
      "<class 'pyspark.sql.dataframe.DataFrame'>\n",
      "+--------------------+----------+------------+-------------+-------------+-------------+-----------+--------+\n",
      "|              \"time\"|\"altitude\"|\"heart_rate\"|   \"latitude\"|  \"longitude\"|      \"speed\"|\"workoutid\"|    \"id\"|\n",
      "+--------------------+----------+------------+-------------+-------------+-------------+-----------+--------+\n",
      "|\"2013-02-22 21:38...|          |   147.00000|51.4394768234|-0.8953504544| 6.7140000000|  167479013|13856798|\n",
      "|\"2013-02-22 21:38...|          |   148.00000|51.4392022323|-0.8952703234| 9.3492000000|  167479013|13856799|\n",
      "|\"2013-02-22 21:39...|          |   148.00000|51.4390821196|-0.8953502029|10.6308000000|  167479013|13856800|\n",
      "|\"2013-02-22 21:39...|          |   149.00000|51.4388703089|-0.8954045177|13.3740000000|  167479013|13856801|\n",
      "|\"2013-02-22 21:39...|          |   151.00000|51.4386848174|-0.8952745982|12.6468000000|  167479013|13856802|\n",
      "|\"2013-02-22 21:39...|          |   152.00000|51.4385818038|-0.8951149229|11.6316000000|  167479013|13856803|\n",
      "|\"2013-02-22 21:39...|          |   151.00000|51.4383811411|-0.8946192171|11.0520000000|  167479013|13856804|\n",
      "|\"2013-02-22 21:39...|          |   151.00000|51.4383305982|-0.8943347353|11.2284000000|  167479013|13856805|\n",
      "|\"2013-02-22 21:39...|          |   150.00000|51.4382817317|-0.8940684423|11.5056000000|  167479013|13856806|\n",
      "|\"2013-02-22 21:39...|          |   152.00000|51.4382587653|-0.8938501775|11.3832000000|  167479013|13856807|\n",
      "|\"2013-02-22 21:39...|          |   151.00000|51.4382402413|-0.8936407138|10.8936000000|  167479013|13856808|\n",
      "|\"2013-02-22 21:40...|          |   150.00000|51.4383392315|-0.8935162425| 9.1944000000|  167479013|13856809|\n",
      "|\"2013-02-22 21:40...|          |   150.00000|51.4383939654|-0.8936719783| 9.3996000000|  167479013|13856810|\n",
      "|\"2013-02-22 21:40...|          |   151.00000|51.4383674785|-0.8938780893| 9.9216000000|  167479013|13856811|\n",
      "|\"2013-02-22 21:40...|          |   150.00000|51.4383420814|-0.8940940071|10.0080000000|  167479013|13856812|\n",
      "+--------------------+----------+------------+-------------+-------------+-------------+-----------+--------+\n",
      "\n"
     ]
    }
   ],
   "source": [
    "##example for workoutid 167479013\n",
    "wid = 167479013\n",
    "print type(df_runs)\n",
    "sample_df = df_runs.where(df_runs['\"workoutid\"'] == 167479013)\n",
    "time_series = traces.TimeSeries()\n",
    "sample_df.show()"
   ]
  },
  {
   "cell_type": "code",
   "execution_count": 151,
   "metadata": {
    "collapsed": true
   },
   "outputs": [],
   "source": []
  },
  {
   "cell_type": "code",
   "execution_count": 138,
   "metadata": {
    "collapsed": false
   },
   "outputs": [
    {
     "name": "stdout",
     "output_type": "stream",
     "text": [
      "\"2013-02-22 21:38:45\"\n",
      "<type 'unicode'>\n",
      "[2013, 2, 22, 21, 38, 45]\n"
     ]
    }
   ],
   "source": [
    "print tt\n",
    "print datetime_to_trace_time(tt)"
   ]
  },
  {
   "cell_type": "code",
   "execution_count": 140,
   "metadata": {
    "collapsed": false
   },
   "outputs": [
    {
     "name": "stdout",
     "output_type": "stream",
     "text": [
      "\"2013-02-22 21:38:45\"\n",
      "<type 'unicode'>\n",
      "masa\n",
      "[2013, 2, 22, 21, 38, 45]\n"
     ]
    }
   ],
   "source": [
    "tt = sample_df.select('\"time\"').first()[0]\n",
    "print tt\n",
    "\n",
    "#from_pattern = 'MMM d, yyyy h:mm:ss aa'\n",
    "from_pattern = '\"%Y-%m-%d %H:%M:%S\"'\n",
    "in_tt = datetime_to_trace_time(tt)\n",
    "print 'masa'\n",
    "print in_tt\n",
    "time_series = traces.TimeSeries()\n",
    "time_series[datetime(in_tt[0], in_tt[1], in_tt[2],\\\n",
    "                     in_tt[3], in_tt[4],\\\n",
    "                    in_tt[5])] = 4"
   ]
  },
  {
   "cell_type": "code",
   "execution_count": 147,
   "metadata": {
    "collapsed": false
   },
   "outputs": [],
   "source": [
    "ll = sample_df.select('\"time\"').head(4)"
   ]
  },
  {
   "cell_type": "code",
   "execution_count": 153,
   "metadata": {
    "collapsed": false
   },
   "outputs": [
    {
     "name": "stdout",
     "output_type": "stream",
     "text": [
      "Row(\"time\"=u'\"2013-02-22 21:38:45\"')\n",
      "Row(\"time\"=u'\"2013-02-22 21:38:57\"')\n",
      "Row(\"time\"=u'\"2013-02-22 21:39:01\"')\n",
      "Row(\"time\"=u'\"2013-02-22 21:39:07\"')\n"
     ]
    }
   ],
   "source": [
    "time_series = traces.TimeSeries()\n",
    "\n",
    "for row in ll:\n",
    "    print row\n",
    "    in_tt = datetime_to_trace_time(row[0])\n",
    "    time_series[datetime(in_tt[0], in_tt[1], in_tt[2],\\\n",
    "                     in_tt[3], in_tt[4],\\\n",
    "                    in_tt[5])] = 4\n"
   ]
  },
  {
   "cell_type": "code",
   "execution_count": null,
   "metadata": {
    "collapsed": true
   },
   "outputs": [],
   "source": [
    "time_series.distribution"
   ]
  }
 ],
 "metadata": {
  "kernelspec": {
   "display_name": "Python 2",
   "language": "python",
   "name": "python2"
  },
  "language_info": {
   "codemirror_mode": {
    "name": "ipython",
    "version": 2
   },
   "file_extension": ".py",
   "mimetype": "text/x-python",
   "name": "python",
   "nbconvert_exporter": "python",
   "pygments_lexer": "ipython2",
   "version": "2.7.13"
  }
 },
 "nbformat": 4,
 "nbformat_minor": 2
}

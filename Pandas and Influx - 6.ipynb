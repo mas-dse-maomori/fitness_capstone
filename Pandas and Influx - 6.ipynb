{
 "cells": [
  {
   "cell_type": "code",
   "execution_count": 19,
   "metadata": {
    "collapsed": false
   },
   "outputs": [
    {
     "name": "stdout",
     "output_type": "stream",
     "text": [
      "Populating the interactive namespace from numpy and matplotlib\n",
      "time: 21.2 ms\n"
     ]
    }
   ],
   "source": [
    "import pandas as pd\n",
    "\n",
    "import sys\n",
    "import ujson\n",
    "import pprint\n",
    "import numpy as np\n",
    "from operator import itemgetter\n",
    "import matplotlib.pyplot as plt\n",
    "import matplotlib.cm as cm\n",
    "\n",
    "# For displaying google maps\n",
    "import gmplot\n",
    "from IPython.display import IFrame\n",
    "\n",
    "# Second (better?) google map, only inline so far\n",
    "import gmaps\n",
    "\n",
    "# For summary stats\n",
    "import scipy\n",
    "from scipy import stats\n",
    "\n",
    "from influxdb import DataFrameClient\n",
    "#from influxdb import InfluxDBClient\n",
    "\n",
    "\n",
    "pp = pprint.PrettyPrinter(indent=4)\n",
    "%pylab inline"
   ]
  },
  {
   "cell_type": "code",
   "execution_count": 20,
   "metadata": {
    "collapsed": false
   },
   "outputs": [
    {
     "name": "stdout",
     "output_type": "stream",
     "text": [
      "The autotime extension is already loaded. To reload it, use:\n",
      "  %reload_ext autotime\n",
      "time: 2.27 ms\n"
     ]
    }
   ],
   "source": [
    "# Testing auto adding time output to all cells\n",
    "'''\n",
    "#To install...\n",
    "wget https://raw.githubusercontent.com/cpcloud/ipython-autotime/master/autotime.py\n",
    "#Make available via\n",
    "jupyter nbextension install /Users/patrickmulrooney/class/notebooks/pjmulroo/DSECapstone/autotime.py\n",
    "'''\n",
    " \n",
    "%load_ext autotime"
   ]
  },
  {
   "cell_type": "code",
   "execution_count": 21,
   "metadata": {
    "collapsed": false
   },
   "outputs": [
    {
     "name": "stdout",
     "output_type": "stream",
     "text": [
      "time: 49.1 ms\n"
     ]
    }
   ],
   "source": [
    "def log_progress(sequence, every=None, size=None):\n",
    "    from ipywidgets import IntProgress, HTML, VBox\n",
    "    from IPython.display import display\n",
    "\n",
    "    is_iterator = False\n",
    "    if size is None:\n",
    "        try:\n",
    "            size = len(sequence)\n",
    "        except TypeError:\n",
    "            is_iterator = True\n",
    "    if size is not None:\n",
    "        if every is None:\n",
    "            if size <= 200:\n",
    "                every = 1\n",
    "            else:\n",
    "                every = int(size / 200)     # every 0.5%\n",
    "    else:\n",
    "        assert every is not None, 'sequence is iterator, set every'\n",
    "\n",
    "    if is_iterator:\n",
    "        progress = IntProgress(min=0, max=1, value=1)\n",
    "        progress.bar_style = 'info'\n",
    "    else:\n",
    "        progress = IntProgress(min=0, max=size, value=0)\n",
    "    label = HTML()\n",
    "    box = VBox(children=[label, progress])\n",
    "    display(box)\n",
    "\n",
    "    index = 0\n",
    "    try:\n",
    "        for index, record in enumerate(sequence, 1):\n",
    "            if index == 1 or index % every == 0:\n",
    "                if is_iterator:\n",
    "                    label.value = '{index} / ?'.format(index=index)\n",
    "                else:\n",
    "                    progress.value = index\n",
    "                    label.value = u'{index} / {size}'.format(\n",
    "                        index=index,\n",
    "                        size=size\n",
    "                    )\n",
    "            yield record\n",
    "    except:\n",
    "        progress.bar_style = 'danger'\n",
    "        raise\n",
    "    else:\n",
    "        progress.bar_style = 'success'\n",
    "        progress.value = index\n",
    "        label.value = str(index or '?')\n"
   ]
  },
  {
   "cell_type": "code",
   "execution_count": 22,
   "metadata": {
    "collapsed": false
   },
   "outputs": [
    {
     "name": "stdout",
     "output_type": "stream",
     "text": [
      "time: 5.88 ms\n"
     ]
    }
   ],
   "source": [
    "# Read config from local file\n",
    "GMAP_API_KEY = None\n",
    "\n",
    "sys.path.append('/Users/patrickmulrooney/Desktop/')\n",
    "import capstone_config"
   ]
  },
  {
   "cell_type": "code",
   "execution_count": 23,
   "metadata": {
    "collapsed": false
   },
   "outputs": [
    {
     "name": "stdout",
     "output_type": "stream",
     "text": [
      "time: 2.21 ms\n"
     ]
    }
   ],
   "source": [
    "GMAP_API_KEY = capstone_config._GMAP_API_KEY\n",
    "gmaps.configure(api_key=GMAP_API_KEY)"
   ]
  },
  {
   "cell_type": "code",
   "execution_count": null,
   "metadata": {
    "collapsed": false
   },
   "outputs": [
    {
     "name": "stdout",
     "output_type": "stream",
     "text": [
      "time: 4.41 ms\n"
     ]
    }
   ],
   "source": [
    "dbname = 'endomondo'\n",
    "client = DataFrameClient('localhost', 8086, 'root', 'root', dbname)"
   ]
  },
  {
   "cell_type": "code",
   "execution_count": null,
   "metadata": {
    "collapsed": false
   },
   "outputs": [],
   "source": [
    "endoHRbike = client.query(\"select * from \\\"bike (transport)\\\"\")['bike (transport)']"
   ]
  },
  {
   "cell_type": "code",
   "execution_count": null,
   "metadata": {
    "collapsed": false
   },
   "outputs": [],
   "source": [
    "endoHRbike.groupby('workoutId').max().groupby('userId').count().sort_values(by='altitude')[-5:]"
   ]
  },
  {
   "cell_type": "code",
   "execution_count": null,
   "metadata": {
    "collapsed": false
   },
   "outputs": [],
   "source": [
    "transports = {}\n",
    "for i in endoHRbike.groupby('userId').first().index.values:\n",
    "    transports[i] = endoHRbike[endoHRbike['userId'] == i].reset_index()"
   ]
  },
  {
   "cell_type": "code",
   "execution_count": null,
   "metadata": {
    "collapsed": false
   },
   "outputs": [],
   "source": [
    "idx = 2734298\n",
    "\n",
    "m = gmaps.Map()\n",
    "heatmap_layer = gmaps.Heatmap(data=[list(_i) for _i in list(transports[idx][['latitude','longitude']].values)])\n",
    "\n",
    "m.add_layer(heatmap_layer)\n",
    "\n",
    "heatmap_layer.max_intensity = 10\n",
    "heatmap_layer.point_radius = 2\n",
    "\n",
    "t = transports[idx].groupby('workoutId').max()['index']\n",
    "print plt.hist([t.iloc[_i].dayofweek for _i in range(len(t))])\n",
    "\n"
   ]
  },
  {
   "cell_type": "code",
   "execution_count": null,
   "metadata": {
    "collapsed": false
   },
   "outputs": [],
   "source": [
    "m"
   ]
  },
  {
   "cell_type": "code",
   "execution_count": null,
   "metadata": {
    "collapsed": false
   },
   "outputs": [],
   "source": [
    "idx = 4997910\n",
    "\n",
    "m = gmaps.Map()\n",
    "heatmap_layer = gmaps.Heatmap(data=[list(_i) for _i in list(transports[idx][['latitude','longitude']].values)])\n",
    "\n",
    "m.add_layer(heatmap_layer)\n",
    "\n",
    "heatmap_layer.max_intensity = 100\n",
    "heatmap_layer.point_radius = 2\n",
    "\n",
    "t = transports[idx].groupby('workoutId').max()['index']\n",
    "print plt.hist([t.iloc[_i].dayofweek for _i in range(len(t))])"
   ]
  },
  {
   "cell_type": "code",
   "execution_count": null,
   "metadata": {
    "collapsed": false
   },
   "outputs": [],
   "source": [
    "m"
   ]
  },
  {
   "cell_type": "code",
   "execution_count": null,
   "metadata": {
    "collapsed": false
   },
   "outputs": [],
   "source": [
    "idx = 4446822\n",
    "\n",
    "m = gmaps.Map()\n",
    "heatmap_layer = gmaps.Heatmap(data=[list(_i) for _i in list(transports[idx][['latitude','longitude']].values)])\n",
    "\n",
    "m.add_layer(heatmap_layer)\n",
    "\n",
    "heatmap_layer.max_intensity = 100\n",
    "heatmap_layer.point_radius = 2\n",
    "\n",
    "t = transports[idx].groupby('workoutId').max()['index']\n",
    "print plt.hist([t.iloc[_i].dayofweek for _i in range(len(t))])"
   ]
  },
  {
   "cell_type": "code",
   "execution_count": null,
   "metadata": {
    "collapsed": false
   },
   "outputs": [],
   "source": [
    "m"
   ]
  },
  {
   "cell_type": "code",
   "execution_count": null,
   "metadata": {
    "collapsed": false
   },
   "outputs": [],
   "source": [
    "idx = 3351234\n",
    "\n",
    "m = gmaps.Map()\n",
    "heatmap_layer = gmaps.Heatmap(data=[list(_i) for _i in list(transports[idx][['latitude','longitude']].values)])\n",
    "\n",
    "m.add_layer(heatmap_layer)\n",
    "\n",
    "heatmap_layer.max_intensity = 100\n",
    "heatmap_layer.point_radius = 2"
   ]
  },
  {
   "cell_type": "code",
   "execution_count": null,
   "metadata": {
    "collapsed": false
   },
   "outputs": [],
   "source": [
    "t = transports[idx].groupby('workoutId').max()['index']\n",
    "plt.hist([t.iloc[_i].dayofweek for _i in range(len(t))], bins=7 )\n",
    "print 'Day of week'\n",
    "plt.show()"
   ]
  },
  {
   "cell_type": "code",
   "execution_count": null,
   "metadata": {
    "collapsed": false
   },
   "outputs": [],
   "source": [
    "t = transports[idx].groupby('workoutId').min()['index']\n",
    "plt.hist([t.iloc[_i].hour+1 for _i in range(len(t))],bins=24)\n",
    "print 'Start hour'\n",
    "plt.show()"
   ]
  },
  {
   "cell_type": "code",
   "execution_count": null,
   "metadata": {
    "collapsed": false
   },
   "outputs": [],
   "source": [
    "t = transports[idx].groupby('workoutId').max()['index']\n",
    "plt.hist([t.iloc[_i].hour+1 for _i in range(len(t))],bins=24)\n",
    "print 'End hour'\n",
    "plt.show()"
   ]
  },
  {
   "cell_type": "code",
   "execution_count": null,
   "metadata": {
    "collapsed": false
   },
   "outputs": [],
   "source": [
    "transports[idx].max()"
   ]
  },
  {
   "cell_type": "code",
   "execution_count": null,
   "metadata": {
    "collapsed": false
   },
   "outputs": [],
   "source": [
    "print \"All days combined\"\n",
    "m"
   ]
  },
  {
   "cell_type": "code",
   "execution_count": null,
   "metadata": {
    "collapsed": false
   },
   "outputs": [],
   "source": [
    "m = gmaps.Map()\n",
    "heatmap_layer = gmaps.Heatmap(data=[list(_i)[0:2] for _i in list(transports[idx][['latitude','longitude','index']].values) if _i[2].dayofweek == 0])\n",
    "\n",
    "m.add_layer(heatmap_layer)\n",
    "\n",
    "heatmap_layer.max_intensity = 100\n",
    "heatmap_layer.point_radius = 2\n",
    "print \"Sunday\"\n",
    "m"
   ]
  },
  {
   "cell_type": "code",
   "execution_count": null,
   "metadata": {
    "collapsed": false
   },
   "outputs": [],
   "source": [
    "m = gmaps.Map()\n",
    "heatmap_layer = gmaps.Heatmap(data=[list(_i)[0:2] for _i in list(transports[idx][['latitude','longitude','index']].values) if _i[2].dayofweek == 1])\n",
    "\n",
    "m.add_layer(heatmap_layer)\n",
    "\n",
    "heatmap_layer.max_intensity = 100\n",
    "heatmap_layer.point_radius = 2\n",
    "print \"Monday\"\n",
    "m"
   ]
  },
  {
   "cell_type": "code",
   "execution_count": null,
   "metadata": {
    "collapsed": false
   },
   "outputs": [],
   "source": [
    "m = gmaps.Map()\n",
    "heatmap_layer = gmaps.Heatmap(data=[list(_i)[0:2] for _i in list(transports[idx][['latitude','longitude','index']].values) if _i[2].dayofweek == 2])\n",
    "\n",
    "m.add_layer(heatmap_layer)\n",
    "\n",
    "heatmap_layer.max_intensity = 100\n",
    "heatmap_layer.point_radius = 2\n",
    "print \"Tuesday\"\n",
    "m"
   ]
  },
  {
   "cell_type": "code",
   "execution_count": null,
   "metadata": {
    "collapsed": false
   },
   "outputs": [],
   "source": [
    "m = gmaps.Map()\n",
    "heatmap_layer = gmaps.Heatmap(data=[list(_i)[0:2] for _i in list(transports[idx][['latitude','longitude','index']].values) if _i[2].dayofweek == 3])\n",
    "\n",
    "m.add_layer(heatmap_layer)\n",
    "\n",
    "heatmap_layer.max_intensity = 100\n",
    "heatmap_layer.point_radius = 2\n",
    "print \"Wednesday\"\n",
    "m"
   ]
  },
  {
   "cell_type": "code",
   "execution_count": null,
   "metadata": {
    "collapsed": false
   },
   "outputs": [],
   "source": [
    "m = gmaps.Map()\n",
    "heatmap_layer = gmaps.Heatmap(data=[list(_i)[0:2] for _i in list(transports[idx][['latitude','longitude','index']].values) if _i[2].dayofweek == 5])\n",
    "\n",
    "m.add_layer(heatmap_layer)\n",
    "\n",
    "heatmap_layer.max_intensity = 100\n",
    "heatmap_layer.point_radius = 2\n",
    "print \"Thursday\"\n",
    "m"
   ]
  },
  {
   "cell_type": "code",
   "execution_count": null,
   "metadata": {
    "collapsed": false,
    "scrolled": true
   },
   "outputs": [],
   "source": [
    "transports[idx]['heart_rate'].hist()"
   ]
  },
  {
   "cell_type": "code",
   "execution_count": null,
   "metadata": {
    "collapsed": true
   },
   "outputs": [],
   "source": []
  }
 ],
 "metadata": {
  "kernelspec": {
   "display_name": "Python 2",
   "language": "python",
   "name": "python2"
  },
  "language_info": {
   "codemirror_mode": {
    "name": "ipython",
    "version": 2
   },
   "file_extension": ".py",
   "mimetype": "text/x-python",
   "name": "python",
   "nbconvert_exporter": "python",
   "pygments_lexer": "ipython2",
   "version": "2.7.13"
  }
 },
 "nbformat": 4,
 "nbformat_minor": 1
}

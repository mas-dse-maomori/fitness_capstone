{
 "cells": [
  {
   "cell_type": "code",
   "execution_count": 1,
   "metadata": {
    "collapsed": false
   },
   "outputs": [],
   "source": [
    "from influxdb import InfluxDBClient\n",
    "\n",
    "import ujson\n",
    "import copy\n",
    "import numpy as np\n",
    "import scipy.stats\n",
    "import sys"
   ]
  },
  {
   "cell_type": "code",
   "execution_count": 2,
   "metadata": {
    "collapsed": true
   },
   "outputs": [],
   "source": [
    "# Testing auto adding time output to all cells\n",
    "'''\n",
    "#To install...\n",
    "wget https://raw.githubusercontent.com/cpcloud/ipython-autotime/master/autotime.py\n",
    "#Make available via\n",
    "jupyter nbextension install /Users/patrickmulrooney/class/notebooks/pjmulroo/DSECapstone/autotime.py\n",
    "'''\n",
    " \n",
    "%load_ext autotime"
   ]
  },
  {
   "cell_type": "code",
   "execution_count": 3,
   "metadata": {
    "collapsed": false
   },
   "outputs": [
    {
     "name": "stdout",
     "output_type": "stream",
     "text": [
      "time: 29.5 ms\n"
     ]
    }
   ],
   "source": [
    "def log_progress(sequence, every=None, size=None):\n",
    "    from ipywidgets import IntProgress, HTML, VBox\n",
    "    from IPython.display import display\n",
    "\n",
    "    is_iterator = False\n",
    "    if size is None:\n",
    "        try:\n",
    "            size = len(sequence)\n",
    "        except TypeError:\n",
    "            is_iterator = True\n",
    "    if size is not None:\n",
    "        if every is None:\n",
    "            if size <= 200:\n",
    "                every = 1\n",
    "            else:\n",
    "                every = int(size / 200)     # every 0.5%\n",
    "    else:\n",
    "        assert every is not None, 'sequence is iterator, set every'\n",
    "\n",
    "    if is_iterator:\n",
    "        progress = IntProgress(min=0, max=1, value=1)\n",
    "        progress.bar_style = 'info'\n",
    "    else:\n",
    "        progress = IntProgress(min=0, max=size, value=0)\n",
    "    label = HTML()\n",
    "    box = VBox(children=[label, progress])\n",
    "    display(box)\n",
    "\n",
    "    index = 0\n",
    "    try:\n",
    "        for index, record in enumerate(sequence, 1):\n",
    "            if index == 1 or index % every == 0:\n",
    "                if is_iterator:\n",
    "                    label.value = '{index} / ?'.format(index=index)\n",
    "                else:\n",
    "                    progress.value = index\n",
    "                    label.value = u'{index} / {size}'.format(\n",
    "                        index=index,\n",
    "                        size=size\n",
    "                    )\n",
    "            yield record\n",
    "    except:\n",
    "        progress.bar_style = 'danger'\n",
    "        raise\n",
    "    else:\n",
    "        progress.bar_style = 'success'\n",
    "        progress.value = index\n",
    "        label.value = str(index or '?')\n"
   ]
  },
  {
   "cell_type": "code",
   "execution_count": 4,
   "metadata": {
    "collapsed": false
   },
   "outputs": [
    {
     "name": "stdout",
     "output_type": "stream",
     "text": [
      "/Users/patrickmulrooney/Downloads/endomondoHR/endoHRParsed_no_outliers.json\n",
      "time: 4.89 ms\n"
     ]
    }
   ],
   "source": [
    "# Read config from local file\n",
    "GMAP_API_KEY = None\n",
    "\n",
    "sys.path.append('/Users/patrickmulrooney/Desktop/')\n",
    "import capstone_config\n",
    "\n",
    "_file, _ = capstone_config.getkeys()\n",
    "print _file"
   ]
  },
  {
   "cell_type": "code",
   "execution_count": 6,
   "metadata": {
    "collapsed": false
   },
   "outputs": [
    {
     "name": "stdout",
     "output_type": "stream",
     "text": [
      "time: 14min 50s\n"
     ]
    }
   ],
   "source": [
    "#time: 12min 44s\n",
    "# Full dataset\n",
    "#_file = \"/Users/patrickmulrooney/Downloads/endomondoHR/endoHRParsed.json\"\n",
    "# Partial dataset\n",
    "#_file = \"/Users/patrickmulrooney/Downloads/endomondoHR/endoHRParsed_10k.json\"\n",
    "\n",
    "endoHR = []\n",
    "\n",
    "with open(_file, 'r') as f:\n",
    "    endoHR += ujson.load(f)"
   ]
  },
  {
   "cell_type": "code",
   "execution_count": 7,
   "metadata": {
    "collapsed": false
   },
   "outputs": [
    {
     "name": "stdout",
     "output_type": "stream",
     "text": [
      "time: 24.6 ms\n"
     ]
    }
   ],
   "source": [
    "dbname = 'endomondo2'\n",
    "client = InfluxDBClient('localhost', 8086, 'root', 'root', dbname)"
   ]
  },
  {
   "cell_type": "code",
   "execution_count": 8,
   "metadata": {
    "collapsed": false
   },
   "outputs": [
    {
     "name": "stdout",
     "output_type": "stream",
     "text": [
      "Drop database: endomondo2\n",
      "Create database: endomondo2\n",
      "Create a retention policy\n",
      "time: 625 ms\n"
     ]
    }
   ],
   "source": [
    "try:\n",
    "    print(\"Drop database: \" + dbname)\n",
    "    client.drop_database(dbname)\n",
    "except:\n",
    "    pass\n",
    "\n",
    "print(\"Create database: \" + dbname)\n",
    "client.create_database(dbname)\n",
    "\n",
    "print(\"Create a retention policy\")\n",
    "client.create_retention_policy('awesome_policy', 'INF', 1, default=True)"
   ]
  },
  {
   "cell_type": "code",
   "execution_count": null,
   "metadata": {
    "collapsed": false,
    "scrolled": false
   },
   "outputs": [
    {
     "name": "stdout",
     "output_type": "stream",
     "text": [
      "time: 5.74 ms\n"
     ]
    }
   ],
   "source": [
    "# # https://docs.influxdata.com/influxdb/v1.1/concepts/key_concepts/#database\n",
    "# for _endoHR in log_progress(endoHR, every=1):\n",
    "#     _points = []\n",
    "\n",
    "#     _dict = {}\n",
    "#     #_dict[\"measurement\"] = \"exercise\"\n",
    "#     _dict[\"measurement\"] = _endoHR['sport']\n",
    "#     _tags = {}\n",
    "#     _tags[\"gender\"] = _endoHR['gender']\n",
    "#     _tags[\"workoutId\"] = _endoHR['id']\n",
    "\n",
    "#     #_tags[\"sport\"] = _endoHR['sport']\n",
    "#     #_dict[\"tags\"][\"url\"] = _endoHR['url']\n",
    "    \n",
    "#     for _series in _endoHR['series']:\n",
    "#         _dict[\"time\"] = _series[0]\n",
    "#         _dict[\"fields\"] = {}\n",
    "#         _dict[\"fields\"][\"userId\"] = _endoHR['userId']\n",
    "#         _dict[\"fields\"][\"ts\"] = _series[0]\n",
    "\n",
    "#         _dict[\"fields\"][\"heart_rate\"] = _series[1]\n",
    "#         _dict[\"fields\"][\"altitude\"] = _series[2]\n",
    "#         _dict[\"fields\"][\"latitude\"] = _series[3]\n",
    "#         _dict[\"fields\"][\"longitude\"] = _series[4]\n",
    "#         if _endoHR['speed_included']:\n",
    "#             _dict[\"fields\"][\"speed\"] = _series[5]\n",
    "\n",
    "#         _points.append(copy.deepcopy(_dict))\n",
    "    \n",
    "#     client.write_points(_points, time_precision='s', tags=_tags)"
   ]
  },
  {
   "cell_type": "code",
   "execution_count": null,
   "metadata": {
    "collapsed": true
   },
   "outputs": [],
   "source": [
    "# https://docs.influxdata.com/influxdb/v1.1/concepts/key_concepts/#database\n",
    "for _endoHR in log_progress(endoHR, every=1):\n",
    "    _points = []\n",
    "\n",
    "    _dict = {}\n",
    "    #_dict[\"measurement\"] = \"exercise\"\n",
    "    _dict[\"measurement\"] = _endoHR['sport']\n",
    "    _tags = {}\n",
    "    _tags[\"gender\"] = _endoHR['gender']\n",
    "    _tags[\"workoutId\"] = _endoHR['id']\n",
    "\n",
    "    #_tags[\"sport\"] = _endoHR['sport']\n",
    "    #_dict[\"tags\"][\"url\"] = _endoHR['url']\n",
    "    \n",
    "    for _series in _endoHR['series']:\n",
    "        _dict[\"time\"] = _series[0]\n",
    "        _dict[\"fields\"] = {}\n",
    "        _tags[\"userId\"] = _endoHR['userId']\n",
    "\n",
    "        _dict[\"fields\"][\"heart_rate\"] = _series[1]\n",
    "        _tags[\"altitude\"] = _series[2]\n",
    "        _tags[\"latitude\"] = _series[3]\n",
    "        _tags[\"longitude\"] = _series[4]\n",
    "        if _endoHR['speed_included']:\n",
    "            _tags[\"speed\"] = _series[5]\n",
    "\n",
    "        _points.append(copy.deepcopy(_dict))\n",
    "    \n",
    "    client.write_points(_points, time_precision='s', tags=_tags)"
   ]
  },
  {
   "cell_type": "code",
   "execution_count": null,
   "metadata": {
    "collapsed": false
   },
   "outputs": [],
   "source": [
    "result = client.query('select count(*) from /.*/;')"
   ]
  },
  {
   "cell_type": "code",
   "execution_count": 63,
   "metadata": {
    "collapsed": false
   },
   "outputs": [
    {
     "data": {
      "text/plain": [
       "[u'1970-01-01T00:00:00Z',\n",
       " 48607938,\n",
       " 48607938,\n",
       " 48607938,\n",
       " 48607938,\n",
       " 8740130,\n",
       " 48607938,\n",
       " 48607938]"
      ]
     },
     "execution_count": 63,
     "metadata": {},
     "output_type": "execute_result"
    },
    {
     "name": "stdout",
     "output_type": "stream",
     "text": [
      "time: 65.4 ms\n"
     ]
    }
   ],
   "source": [
    "result.raw['series'][0]['values'][0]"
   ]
  },
  {
   "cell_type": "code",
   "execution_count": 55,
   "metadata": {
    "collapsed": false
   },
   "outputs": [
    {
     "name": "stdout",
     "output_type": "stream",
     "text": [
      "time: 8min 5s\n"
     ]
    }
   ],
   "source": [
    "sport_count = {}\n",
    "\n",
    "for _endo in log_progress(endoHR, every=1):\n",
    "    sport = _endo['sport']\n",
    "    try:\n",
    "        sport_count[sport] += len(_endo['series'])\n",
    "    except:\n",
    "        sport_count[sport] = len(_endo['series'])"
   ]
  },
  {
   "cell_type": "code",
   "execution_count": 57,
   "metadata": {
    "collapsed": false
   },
   "outputs": [
    {
     "data": {
      "text/plain": [
       "48659759"
      ]
     },
     "execution_count": 57,
     "metadata": {},
     "output_type": "execute_result"
    },
    {
     "name": "stdout",
     "output_type": "stream",
     "text": [
      "time: 2.93 ms\n"
     ]
    }
   ],
   "source": [
    "sport_count['run']"
   ]
  },
  {
   "cell_type": "code",
   "execution_count": null,
   "metadata": {
    "collapsed": true
   },
   "outputs": [],
   "source": []
  }
 ],
 "metadata": {
  "kernelspec": {
   "display_name": "Python 2",
   "language": "python",
   "name": "python2"
  },
  "language_info": {
   "codemirror_mode": {
    "name": "ipython",
    "version": 2
   },
   "file_extension": ".py",
   "mimetype": "text/x-python",
   "name": "python",
   "nbconvert_exporter": "python",
   "pygments_lexer": "ipython2",
   "version": "2.7.13"
  },
  "widgets": {
   "state": {
    "b9fade3955f6459c9255ac8d8162112b": {
     "views": [
      {
       "cell_index": 8
      }
     ]
    }
   },
   "version": "1.2.0"
  }
 },
 "nbformat": 4,
 "nbformat_minor": 1
}

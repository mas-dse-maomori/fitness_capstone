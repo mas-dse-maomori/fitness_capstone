{
 "cells": [
  {
   "cell_type": "code",
   "execution_count": 1,
   "metadata": {
    "collapsed": false
   },
   "outputs": [],
   "source": [
    "import ujson\n",
    "import copy\n",
    "import numpy as np\n",
    "import scipy.stats"
   ]
  },
  {
   "cell_type": "code",
   "execution_count": 2,
   "metadata": {
    "collapsed": true
   },
   "outputs": [],
   "source": [
    "# Testing auto adding time output to all cells\n",
    "'''\n",
    "#To install...\n",
    "wget https://raw.githubusercontent.com/cpcloud/ipython-autotime/master/autotime.py\n",
    "#Make available via\n",
    "jupyter nbextension install /Users/patrickmulrooney/class/notebooks/pjmulroo/DSECapstone/autotime.py\n",
    "'''\n",
    " \n",
    "%load_ext autotime"
   ]
  },
  {
   "cell_type": "code",
   "execution_count": 3,
   "metadata": {
    "collapsed": false
   },
   "outputs": [
    {
     "name": "stdout",
     "output_type": "stream",
     "text": [
      "time: 34.5 ms\n"
     ]
    }
   ],
   "source": [
    "def log_progress(sequence, every=None, size=None):\n",
    "    from ipywidgets import IntProgress, HTML, VBox\n",
    "    from IPython.display import display\n",
    "\n",
    "    is_iterator = False\n",
    "    if size is None:\n",
    "        try:\n",
    "            size = len(sequence)\n",
    "        except TypeError:\n",
    "            is_iterator = True\n",
    "    if size is not None:\n",
    "        if every is None:\n",
    "            if size <= 200:\n",
    "                every = 1\n",
    "            else:\n",
    "                every = int(size / 200)     # every 0.5%\n",
    "    else:\n",
    "        assert every is not None, 'sequence is iterator, set every'\n",
    "\n",
    "    if is_iterator:\n",
    "        progress = IntProgress(min=0, max=1, value=1)\n",
    "        progress.bar_style = 'info'\n",
    "    else:\n",
    "        progress = IntProgress(min=0, max=size, value=0)\n",
    "    label = HTML()\n",
    "    box = VBox(children=[label, progress])\n",
    "    display(box)\n",
    "\n",
    "    index = 0\n",
    "    try:\n",
    "        for index, record in enumerate(sequence, 1):\n",
    "            if index == 1 or index % every == 0:\n",
    "                if is_iterator:\n",
    "                    label.value = '{index} / ?'.format(index=index)\n",
    "                else:\n",
    "                    progress.value = index\n",
    "                    label.value = u'{index} / {size}'.format(\n",
    "                        index=index,\n",
    "                        size=size\n",
    "                    )\n",
    "            yield record\n",
    "    except:\n",
    "        progress.bar_style = 'danger'\n",
    "        raise\n",
    "    else:\n",
    "        progress.bar_style = 'success'\n",
    "        progress.value = index\n",
    "        label.value = str(index or '?')\n"
   ]
  },
  {
   "cell_type": "code",
   "execution_count": 4,
   "metadata": {
    "collapsed": false
   },
   "outputs": [
    {
     "name": "stdout",
     "output_type": "stream",
     "text": [
      "time: 14min 11s\n"
     ]
    }
   ],
   "source": [
    "#time: 12min 44s\n",
    "# Full dataset\n",
    "_file = \"/Users/patrickmulrooney/Downloads/endomondoHR/endoHRParsed.json\"\n",
    "# Partial dataset\n",
    "#_file = \"/Users/patrickmulrooney/Downloads/endomondoHR/endoHRParsed_10k.json\"\n",
    "\n",
    "endoHR = []\n",
    "\n",
    "with open(_file, 'r') as f:\n",
    "    endoHR += ujson.load(f)"
   ]
  },
  {
   "cell_type": "code",
   "execution_count": 5,
   "metadata": {
    "collapsed": false
   },
   "outputs": [
    {
     "name": "stdout",
     "output_type": "stream",
     "text": [
      "Length of import: 253020\n",
      "time: 9.33 ms\n"
     ]
    }
   ],
   "source": [
    "print \"Length of import: %s\"%(len(endoHR))"
   ]
  },
  {
   "cell_type": "markdown",
   "metadata": {},
   "source": [
    "## Remove outlier data\n",
    "```\n",
    "series_keys = { True: ['timestamp', 'heart_rate', 'altitude', 'latitude', 'longitude', 'speed' ], \\\n",
    "```\n",
    "\n",
    "#### Using reasonable values from analysis"
   ]
  },
  {
   "cell_type": "code",
   "execution_count": 6,
   "metadata": {
    "collapsed": false
   },
   "outputs": [
    {
     "ename": "NameError",
     "evalue": "name 'exercises_removed' is not defined",
     "output_type": "error",
     "traceback": [
      "\u001b[0;31m---------------------------------------------------------------------------\u001b[0m",
      "\u001b[0;31mNameError\u001b[0m                                 Traceback (most recent call last)",
      "\u001b[0;32m<ipython-input-6-44ff4ccbafaa>\u001b[0m in \u001b[0;36m<module>\u001b[0;34m()\u001b[0m\n\u001b[1;32m     29\u001b[0m \u001b[0mendoHR\u001b[0m \u001b[0;34m=\u001b[0m \u001b[0;34m[\u001b[0m\u001b[0mv\u001b[0m \u001b[0;32mfor\u001b[0m \u001b[0mi\u001b[0m\u001b[0;34m,\u001b[0m \u001b[0mv\u001b[0m \u001b[0;32min\u001b[0m \u001b[0menumerate\u001b[0m\u001b[0;34m(\u001b[0m\u001b[0mendoHR\u001b[0m\u001b[0;34m)\u001b[0m \u001b[0;32mif\u001b[0m \u001b[0mi\u001b[0m \u001b[0;32mnot\u001b[0m \u001b[0;32min\u001b[0m \u001b[0mexercises_to_be_removed\u001b[0m\u001b[0;34m]\u001b[0m\u001b[0;34m\u001b[0m\u001b[0m\n\u001b[1;32m     30\u001b[0m \u001b[0;34m\u001b[0m\u001b[0m\n\u001b[0;32m---> 31\u001b[0;31m \u001b[0;32mprint\u001b[0m \u001b[0;34m\"Removed %s exercise records due to no remaining events\"\u001b[0m\u001b[0;34m%\u001b[0m\u001b[0mexercises_removed\u001b[0m\u001b[0;34m\u001b[0m\u001b[0m\n\u001b[0m\u001b[1;32m     32\u001b[0m \u001b[0;32mprint\u001b[0m \u001b[0;34m\"Removed %s time series events entries due to heart rate\"\u001b[0m\u001b[0;34m%\u001b[0m\u001b[0mhr_removed\u001b[0m\u001b[0;34m\u001b[0m\u001b[0m\n\u001b[1;32m     33\u001b[0m \u001b[0;32mprint\u001b[0m \u001b[0;34m\"Removed %s time series events entries due to altitude\"\u001b[0m\u001b[0;34m%\u001b[0m\u001b[0malt_removed\u001b[0m\u001b[0;34m\u001b[0m\u001b[0m\n",
      "\u001b[0;31mNameError\u001b[0m: name 'exercises_removed' is not defined"
     ]
    },
    {
     "name": "stdout",
     "output_type": "stream",
     "text": [
      "time: 3min 59s\n"
     ]
    }
   ],
   "source": [
    "hr_removed = 0\n",
    "alt_removed = 0\n",
    "speed_removed = 0\n",
    "\n",
    "for _k in endoHR:\n",
    "    to_be_removed = []\n",
    "    for _i, _v in enumerate(_k['series']):\n",
    "        # Heart rate between 40 and 250\n",
    "        if _v[1] < 40 or _v[1] > 250:\n",
    "            hr_removed += 1\n",
    "            to_be_removed.append(_i)\n",
    "        # Altitude to be removed\n",
    "        elif float(_v[2]) < -500.0 or float(_v[2]) > 4000.0:\n",
    "            alt_removed += 1\n",
    "            to_be_removed.append(_i)\n",
    "        # Speed to be removed\n",
    "        elif _k['speed_included'] and (float(_v[5]) < 0.0 or float(_v[5]) > 75.0):\n",
    "            speed_removed += 1\n",
    "            to_be_removed.append(_i)\n",
    "\n",
    "    _k['series'] = [v for i, v in enumerate(_k['series']) if i not in to_be_removed]\n",
    "            \n",
    "exercises_to_be_removed = []\n",
    "for _j, _k in enumerate(endoHR):\n",
    "    # Remove anything that no longer has at least one series event\n",
    "    if len(_k['series']) == 0:\n",
    "        exercises_to_be_removed.append(_j)\n",
    "\n",
    "endoHR = [v for i, v in enumerate(endoHR) if i not in exercises_to_be_removed]\n",
    "            \n",
    "print \"Removed %s exercise records due to no remaining events\"%len(exercises_to_be_removed)\n",
    "print \"Removed %s time series events entries due to heart rate\"%hr_removed\n",
    "print \"Removed %s time series events entries due to altitude\"%alt_removed\n",
    "print \"Removed %s time series events entries due to speed\"%speed_removed"
   ]
  },
  {
   "cell_type": "markdown",
   "metadata": {},
   "source": [
    "#### Using standard deviations."
   ]
  },
  {
   "cell_type": "code",
   "execution_count": 9,
   "metadata": {
    "collapsed": false
   },
   "outputs": [
    {
     "name": "stdout",
     "output_type": "stream",
     "text": [
      "Removed 0 exercise records due to no remaining events\n",
      "Removed 0 time series events entries due to heart rate\n",
      "Removed 0 time series events entries due to altitude\n",
      "Removed 0 time series events entries due to speed\n",
      "time: 7min 15s\n"
     ]
    }
   ],
   "source": [
    "hr_removed = 0\n",
    "alt_removed = 0\n",
    "speed_removed = 0\n",
    "\n",
    "for _k in endoHR:\n",
    "    to_be_removed = []\n",
    "    for _i, _v in enumerate(np.abs(scipy.stats.zscore(_k['series'], axis=1)) < 2):\n",
    "        # Heart rate between 40 and 250\n",
    "        if _v[1] == False:\n",
    "            hr_removed += 1\n",
    "            to_be_removed.append(_i)\n",
    "        # Altitude to be removed\n",
    "        elif _v[2] == False:\n",
    "            alt_removed += 1\n",
    "            to_be_removed.append(_i)\n",
    "        # Speed to be removed\n",
    "        elif _k['speed_included'] and _v[5] == False:\n",
    "            speed_removed += 1\n",
    "            to_be_removed.append(_i)\n",
    "\n",
    "    _k['series'] = [v for i, v in enumerate(_k['series']) if i not in to_be_removed]\n",
    "\n",
    "exercises_to_be_removed = []\n",
    "for _j, _k in enumerate(endoHR):\n",
    "    # Remove anything that no longer has at least one series event\n",
    "    if len(_k['series']) == 0:\n",
    "        exercises_to_be_removed.append(_j)\n",
    "\n",
    "endoHR = [v for i, v in enumerate(endoHR) if i not in exercises_to_be_removed]\n",
    "            \n",
    "print \"Removed %s exercise records due to no remaining events\"%len(exercises_to_be_removed)\n",
    "print \"Removed %s time series events entries due to heart rate\"%hr_removed\n",
    "print \"Removed %s time series events entries due to altitude\"%alt_removed\n",
    "print \"Removed %s time series events entries due to speed\"%speed_removed"
   ]
  },
  {
   "cell_type": "code",
   "execution_count": null,
   "metadata": {
    "collapsed": true
   },
   "outputs": [],
   "source": []
  },
  {
   "cell_type": "code",
   "execution_count": null,
   "metadata": {
    "collapsed": true
   },
   "outputs": [],
   "source": []
  },
  {
   "cell_type": "markdown",
   "metadata": {},
   "source": [
    "## Write parsed data to avoid needing to run this multiple times"
   ]
  },
  {
   "cell_type": "code",
   "execution_count": 10,
   "metadata": {
    "collapsed": false
   },
   "outputs": [
    {
     "name": "stdout",
     "output_type": "stream",
     "text": [
      "time: 3min 30s\n"
     ]
    }
   ],
   "source": [
    "# time: 3min 41s\n",
    "\n",
    "with open('/Users/patrickmulrooney/Downloads/endomondoHR/endoHRParsed_no_outliers.json', 'w') as f:\n",
    "     ujson.dump(endoHR, f)"
   ]
  },
  {
   "cell_type": "code",
   "execution_count": null,
   "metadata": {
    "collapsed": true
   },
   "outputs": [],
   "source": []
  }
 ],
 "metadata": {
  "kernelspec": {
   "display_name": "Python 2",
   "language": "python",
   "name": "python2"
  },
  "language_info": {
   "codemirror_mode": {
    "name": "ipython",
    "version": 2
   },
   "file_extension": ".py",
   "mimetype": "text/x-python",
   "name": "python",
   "nbconvert_exporter": "python",
   "pygments_lexer": "ipython2",
   "version": "2.7.12"
  }
 },
 "nbformat": 4,
 "nbformat_minor": 1
}
